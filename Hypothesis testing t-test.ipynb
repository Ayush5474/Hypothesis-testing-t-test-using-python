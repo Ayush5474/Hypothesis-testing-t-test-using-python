{
 "cells": [
  {
   "cell_type": "code",
   "execution_count": null,
   "id": "253debf5-dab2-49bc-9f81-1214e2637482",
   "metadata": {},
   "outputs": [],
   "source": []
  },
  {
   "cell_type": "raw",
   "id": "d9dcd816-6b8b-44d2-a026-e90491890384",
   "metadata": {},
   "source": [
    "Define :  \n",
    "in science and research, a hypothesis is the proposed explanation or prediction based on limited evidence, \n",
    "intended as a starting point for further testing \n",
    "Basically, it is an educational guess that researchers aim to test through experiments or \n",
    "data analysis to see its supported or refused by evidence.\n",
    "\n",
    "There are 2 types of hypothesis:\n",
    "\r",
    "   \n",
    "1.\tnull hypothesis (H0): a default position that is no effect or difference   \r\n",
    "2.\talternative hypothesis (H1): a statement suggesting the significant effect or difference, challenging the null hypothesis. \r\n"
   ]
  },
  {
   "cell_type": "code",
   "execution_count": null,
   "id": "715ba0f2-8ca6-43d7-b82d-e2d1662d2c6f",
   "metadata": {},
   "outputs": [],
   "source": []
  },
  {
   "cell_type": "markdown",
   "id": "d483c261-d770-46a5-96b6-5796b6acb60c",
   "metadata": {},
   "source": [
    "import neccessary library"
   ]
  },
  {
   "cell_type": "code",
   "execution_count": 1,
   "id": "f860371b-e435-4a49-b156-b16ea5e08333",
   "metadata": {},
   "outputs": [],
   "source": [
    "import numpy as np\n",
    "import scipy.stats as stats\n",
    "import seaborn as sns"
   ]
  },
  {
   "cell_type": "markdown",
   "id": "3241fa24-3d55-47a9-a033-c8244ac2d430",
   "metadata": {},
   "source": [
    "import the dataset"
   ]
  },
  {
   "cell_type": "code",
   "execution_count": 5,
   "id": "c12d2c69-dca4-4795-a65f-f057c1350b80",
   "metadata": {},
   "outputs": [
    {
     "data": {
      "text/html": [
       "<div>\n",
       "<style scoped>\n",
       "    .dataframe tbody tr th:only-of-type {\n",
       "        vertical-align: middle;\n",
       "    }\n",
       "\n",
       "    .dataframe tbody tr th {\n",
       "        vertical-align: top;\n",
       "    }\n",
       "\n",
       "    .dataframe thead th {\n",
       "        text-align: right;\n",
       "    }\n",
       "</style>\n",
       "<table border=\"1\" class=\"dataframe\">\n",
       "  <thead>\n",
       "    <tr style=\"text-align: right;\">\n",
       "      <th></th>\n",
       "      <th>total_bill</th>\n",
       "      <th>tip</th>\n",
       "      <th>sex</th>\n",
       "      <th>smoker</th>\n",
       "      <th>day</th>\n",
       "      <th>time</th>\n",
       "      <th>size</th>\n",
       "    </tr>\n",
       "  </thead>\n",
       "  <tbody>\n",
       "    <tr>\n",
       "      <th>0</th>\n",
       "      <td>16.99</td>\n",
       "      <td>1.01</td>\n",
       "      <td>Female</td>\n",
       "      <td>No</td>\n",
       "      <td>Sun</td>\n",
       "      <td>Dinner</td>\n",
       "      <td>2</td>\n",
       "    </tr>\n",
       "    <tr>\n",
       "      <th>1</th>\n",
       "      <td>10.34</td>\n",
       "      <td>1.66</td>\n",
       "      <td>Male</td>\n",
       "      <td>No</td>\n",
       "      <td>Sun</td>\n",
       "      <td>Dinner</td>\n",
       "      <td>3</td>\n",
       "    </tr>\n",
       "    <tr>\n",
       "      <th>2</th>\n",
       "      <td>21.01</td>\n",
       "      <td>3.50</td>\n",
       "      <td>Male</td>\n",
       "      <td>No</td>\n",
       "      <td>Sun</td>\n",
       "      <td>Dinner</td>\n",
       "      <td>3</td>\n",
       "    </tr>\n",
       "    <tr>\n",
       "      <th>3</th>\n",
       "      <td>23.68</td>\n",
       "      <td>3.31</td>\n",
       "      <td>Male</td>\n",
       "      <td>No</td>\n",
       "      <td>Sun</td>\n",
       "      <td>Dinner</td>\n",
       "      <td>2</td>\n",
       "    </tr>\n",
       "    <tr>\n",
       "      <th>4</th>\n",
       "      <td>24.59</td>\n",
       "      <td>3.61</td>\n",
       "      <td>Female</td>\n",
       "      <td>No</td>\n",
       "      <td>Sun</td>\n",
       "      <td>Dinner</td>\n",
       "      <td>4</td>\n",
       "    </tr>\n",
       "  </tbody>\n",
       "</table>\n",
       "</div>"
      ],
      "text/plain": [
       "   total_bill   tip     sex smoker  day    time  size\n",
       "0       16.99  1.01  Female     No  Sun  Dinner     2\n",
       "1       10.34  1.66    Male     No  Sun  Dinner     3\n",
       "2       21.01  3.50    Male     No  Sun  Dinner     3\n",
       "3       23.68  3.31    Male     No  Sun  Dinner     2\n",
       "4       24.59  3.61  Female     No  Sun  Dinner     4"
      ]
     },
     "execution_count": 5,
     "metadata": {},
     "output_type": "execute_result"
    }
   ],
   "source": [
    "tips = sns.load_dataset(\"tips\")\n",
    "tips.head()"
   ]
  },
  {
   "cell_type": "markdown",
   "id": "5d18beca-6cf6-4dfe-89c1-a08511a276d3",
   "metadata": {},
   "source": [
    "define hypothesis\n",
    "\n",
    "we want to test whether there is a avrage difference between the tips between male and female customers\n",
    "1. null hypothesis(Ho): the average tips given by male are equal to the average tips given by female female\n",
    "2. Alternative hypothesis(H1): the average tips given by the male are differnet than the average tips given by the female\n",
    "\n",
    "since we are comparing the mean between the two independent groups (male and female), we will use an independent t-test.  "
   ]
  },
  {
   "cell_type": "markdown",
   "id": "4a7967fc-17de-454b-8e62-659bc58ce467",
   "metadata": {},
   "source": [
    "filter the tips by gender"
   ]
  },
  {
   "cell_type": "code",
   "execution_count": 7,
   "id": "8e22b7fd-582d-41a5-ae1b-8f6c8023cca1",
   "metadata": {},
   "outputs": [],
   "source": [
    "male_tips = tips[tips[\"sex\"] == \"Male\"][\"tip\"]\n",
    "female_tips = tips[tips[\"sex\"] == \"Female\"][\"tip\"]"
   ]
  },
  {
   "cell_type": "markdown",
   "id": "1cda8296-2ec0-49a9-b196-486171ec5682",
   "metadata": {},
   "source": [
    "perform the t test \n",
    "use scipy.stats.ttest_ind() to conduct the t-test"
   ]
  },
  {
   "cell_type": "code",
   "execution_count": 15,
   "id": "17d5abe4-a5c4-4551-816c-4c32a5df63f2",
   "metadata": {},
   "outputs": [
    {
     "name": "stdout",
     "output_type": "stream",
     "text": [
      "t-statistics =  1.387859705421269\n",
      "p-value =  0.16645623503456755\n"
     ]
    }
   ],
   "source": [
    "t_stat, p_val = stats.ttest_ind(male_tips, female_tips)\n",
    "print(\"t-statistics = \", t_stat)\n",
    "print(\"p-value = \", p_val)"
   ]
  },
  {
   "cell_type": "markdown",
   "id": "ee4eb217-4313-4d8d-89c5-3a459884def8",
   "metadata": {},
   "source": [
    "interpritation of result:\n",
    "\n",
    "1. P value = If the p-value is less than the significance level (typically 0.05), we reject the null hypothesis\n",
    "             this suggest a statistically significant difference in average tips between male and female customer.\n",
    "2. t-statistics = it provide the measure of size of differnce provided in the sample data "
   ]
  },
  {
   "cell_type": "markdown",
   "id": "cb55659b-d220-4d2a-b2a5-09b35af3948d",
   "metadata": {},
   "source": [
    "Interpretation:\n",
    "Since the p-value (0.166) is greater than the typical significance level of 0.05, \n",
    "you fail to reject the null hypothesis. This indicates that there is no statistically significant \n",
    "difference in average tip amounts between male and female customers in this dataset.\n",
    "\n",
    "What This Means:\n",
    "In practical terms, this result suggests that, based on this data, we do not have enough \n",
    "evidence to conclude that the average tips given by male and female customers differ significantly. \n",
    "Any observed difference in the sample could be due to random chance rather than a true difference in the population."
   ]
  },
  {
   "cell_type": "markdown",
   "id": "69d33912-6066-460e-a1a8-f078831fa082",
   "metadata": {},
   "source": [
    "how do we know the significant level :\n",
    "In hypothesis testing, the significance level (α) is generally \n",
    "chosen before conducting the test, based on standard practices or the specific requirements of the analysis. \n",
    "The significance level represents the threshold at which we decide whether to reject the null hypothesis.\n",
    "\n",
    "By convention, 0.05 is commonly used as the significance level,\n",
    "meaning there’s a 5% risk of rejecting the null hypothesis when it's actually true. \n",
    "However, you can choose different values for \n",
    "α depending on how strict you want the test to be.\n",
    "\n",
    "Adding Significance Level (α) to Your Code\n",
    "If you'd like to explicitly include \n",
    "α in your code, you can define it at the beginning. \n",
    "This approach is useful for making the significance level clear and adjustable if you want to test different thresholds."
   ]
  },
  {
   "cell_type": "code",
   "execution_count": null,
   "id": "ca23bcd4-3396-40f7-9661-fc7903a5206c",
   "metadata": {},
   "outputs": [],
   "source": []
  },
  {
   "cell_type": "code",
   "execution_count": null,
   "id": "92fb2175-0627-425e-8d68-3cb65a61f23a",
   "metadata": {},
   "outputs": [],
   "source": []
  },
  {
   "cell_type": "code",
   "execution_count": null,
   "id": "01e71275-c959-468c-95a9-c52b000198f0",
   "metadata": {},
   "outputs": [],
   "source": []
  },
  {
   "cell_type": "markdown",
   "id": "4dcbea22-78f9-4112-b9c8-3fcce88c914e",
   "metadata": {},
   "source": [
    "complete code = "
   ]
  },
  {
   "cell_type": "code",
   "execution_count": 17,
   "id": "c288ca55-fbd5-44c1-9011-4e4db1737d35",
   "metadata": {},
   "outputs": [
    {
     "name": "stdout",
     "output_type": "stream",
     "text": [
      "t-statistic: 1.387859705421269\n",
      "p-value: 0.16645623503456755\n",
      "Fail to reject the null hypothesis: No significant difference in average tips between genders.\n"
     ]
    }
   ],
   "source": [
    "import seaborn as sns\n",
    "import scipy.stats as stats\n",
    "\n",
    "# Load dataset\n",
    "tips = sns.load_dataset(\"tips\")\n",
    "\n",
    "# Separate data by gender\n",
    "male_tips = tips[tips['sex'] == 'Male']['tip']\n",
    "female_tips = tips[tips['sex'] == 'Female']['tip']\n",
    "\n",
    "# Perform t-test\n",
    "t_stat, p_val = stats.ttest_ind(male_tips, female_tips)\n",
    "\n",
    "# Output the results\n",
    "print(\"t-statistic:\", t_stat)\n",
    "print(\"p-value:\", p_val)\n",
    "\n",
    "# Interpret the result\n",
    "if p_val < 0.05:\n",
    "    print(\"Reject the null hypothesis: There is a significant difference in average tips between genders.\")\n",
    "else:\n",
    "    print(\"Fail to reject the null hypothesis: No significant difference in average tips between genders.\")\n"
   ]
  },
  {
   "cell_type": "code",
   "execution_count": null,
   "id": "015d4735-dad6-4755-9756-d69974003dc1",
   "metadata": {},
   "outputs": [],
   "source": []
  },
  {
   "cell_type": "code",
   "execution_count": null,
   "id": "95d69477-115c-434e-ab75-8583ebc4787d",
   "metadata": {},
   "outputs": [],
   "source": []
  },
  {
   "cell_type": "code",
   "execution_count": null,
   "id": "35f45d51-19e3-4a5f-b8f7-a9dea6cbfc7d",
   "metadata": {},
   "outputs": [],
   "source": []
  },
  {
   "cell_type": "code",
   "execution_count": null,
   "id": "803ab559-eea2-47a8-a0d5-215fc8499d8f",
   "metadata": {},
   "outputs": [],
   "source": []
  },
  {
   "cell_type": "code",
   "execution_count": null,
   "id": "249a3dff-fb9f-4344-9fde-baeb6c9497ab",
   "metadata": {},
   "outputs": [],
   "source": []
  },
  {
   "cell_type": "code",
   "execution_count": null,
   "id": "0501824d-92ee-464d-9973-fcf9dc595f2c",
   "metadata": {},
   "outputs": [],
   "source": []
  },
  {
   "cell_type": "code",
   "execution_count": null,
   "id": "dfde5442-0d1f-4f1f-be17-2739820108d0",
   "metadata": {},
   "outputs": [],
   "source": []
  },
  {
   "cell_type": "code",
   "execution_count": null,
   "id": "9a1e4e1d-8c24-4787-93c8-62acba272fd5",
   "metadata": {},
   "outputs": [],
   "source": []
  },
  {
   "cell_type": "code",
   "execution_count": null,
   "id": "3fab7471-6fe0-42e6-aa1f-075fe24e3f94",
   "metadata": {},
   "outputs": [],
   "source": []
  },
  {
   "cell_type": "code",
   "execution_count": null,
   "id": "adca7171-6cef-4eae-9a21-79e87203ae75",
   "metadata": {},
   "outputs": [],
   "source": []
  },
  {
   "cell_type": "code",
   "execution_count": null,
   "id": "f3f70fa5-d54f-428b-8557-4e3c0f7f22d0",
   "metadata": {},
   "outputs": [],
   "source": []
  },
  {
   "cell_type": "code",
   "execution_count": null,
   "id": "92d639a0-8d53-4575-8bcc-94c931fb9daa",
   "metadata": {},
   "outputs": [],
   "source": []
  },
  {
   "cell_type": "code",
   "execution_count": null,
   "id": "33650b63-05c0-45f6-9531-04f2da419e5e",
   "metadata": {},
   "outputs": [],
   "source": []
  },
  {
   "cell_type": "code",
   "execution_count": null,
   "id": "7364c744-509d-4366-b575-bde71a835ec3",
   "metadata": {},
   "outputs": [],
   "source": []
  },
  {
   "cell_type": "code",
   "execution_count": null,
   "id": "246f25c5-6f47-4f95-840a-d9b843daf550",
   "metadata": {},
   "outputs": [],
   "source": []
  },
  {
   "cell_type": "code",
   "execution_count": null,
   "id": "bc6eff62-6bdd-4d90-8a12-26313ff3604e",
   "metadata": {},
   "outputs": [],
   "source": []
  },
  {
   "cell_type": "code",
   "execution_count": null,
   "id": "a8b0661c-f711-4e5f-94d3-54644a9d6eb0",
   "metadata": {},
   "outputs": [],
   "source": []
  },
  {
   "cell_type": "code",
   "execution_count": null,
   "id": "37bbbb01-27dd-4c8d-a449-9f7de31be68d",
   "metadata": {},
   "outputs": [],
   "source": []
  },
  {
   "cell_type": "code",
   "execution_count": null,
   "id": "79af7d74-3938-402c-a8c6-e61336c62378",
   "metadata": {},
   "outputs": [],
   "source": []
  }
 ],
 "metadata": {
  "kernelspec": {
   "display_name": "Python 3 (ipykernel)",
   "language": "python",
   "name": "python3"
  },
  "language_info": {
   "codemirror_mode": {
    "name": "ipython",
    "version": 3
   },
   "file_extension": ".py",
   "mimetype": "text/x-python",
   "name": "python",
   "nbconvert_exporter": "python",
   "pygments_lexer": "ipython3",
   "version": "3.12.4"
  }
 },
 "nbformat": 4,
 "nbformat_minor": 5
}
